{
 "cells": [
  {
   "cell_type": "markdown",
   "metadata": {},
   "source": [
    "How effective is our short-term approach to predicting monthly peaks?"
   ]
  },
  {
   "cell_type": "code",
   "execution_count": 1,
   "metadata": {},
   "outputs": [],
   "source": [
    "import numpy as np\n",
    "import pandas as pd\n",
    "from scipy.stats import norm"
   ]
  },
  {
   "cell_type": "code",
   "execution_count": 2,
   "metadata": {},
   "outputs": [],
   "source": [
    "# regions: COAST, EAST, FWEST, NCENT, NORTH, SCENT, SOUTH, WEST\n",
    "REGION = 'COAST'"
   ]
  },
  {
   "cell_type": "code",
   "execution_count": 4,
   "metadata": {},
   "outputs": [
    {
     "data": {
      "text/html": [
       "<div>\n",
       "<style scoped>\n",
       "    .dataframe tbody tr th:only-of-type {\n",
       "        vertical-align: middle;\n",
       "    }\n",
       "\n",
       "    .dataframe tbody tr th {\n",
       "        vertical-align: top;\n",
       "    }\n",
       "\n",
       "    .dataframe thead th {\n",
       "        text-align: right;\n",
       "    }\n",
       "</style>\n",
       "<table border=\"1\" class=\"dataframe\">\n",
       "  <thead>\n",
       "    <tr style=\"text-align: right;\">\n",
       "      <th></th>\n",
       "      <th>load</th>\n",
       "    </tr>\n",
       "    <tr>\n",
       "      <th>dates</th>\n",
       "      <th></th>\n",
       "    </tr>\n",
       "  </thead>\n",
       "  <tbody>\n",
       "    <tr>\n",
       "      <th>2002-01-01</th>\n",
       "      <td>9679.928958</td>\n",
       "    </tr>\n",
       "    <tr>\n",
       "      <th>2002-01-02</th>\n",
       "      <td>10835.067044</td>\n",
       "    </tr>\n",
       "    <tr>\n",
       "      <th>2002-01-03</th>\n",
       "      <td>11190.440561</td>\n",
       "    </tr>\n",
       "    <tr>\n",
       "      <th>2002-01-04</th>\n",
       "      <td>10605.590872</td>\n",
       "    </tr>\n",
       "    <tr>\n",
       "      <th>2002-01-05</th>\n",
       "      <td>8656.972096</td>\n",
       "    </tr>\n",
       "  </tbody>\n",
       "</table>\n",
       "</div>"
      ],
      "text/plain": [
       "                    load\n",
       "dates                   \n",
       "2002-01-01   9679.928958\n",
       "2002-01-02  10835.067044\n",
       "2002-01-03  11190.440561\n",
       "2002-01-04  10605.590872\n",
       "2002-01-05   8656.972096"
      ]
     },
     "execution_count": 4,
     "metadata": {},
     "output_type": "execute_result"
    }
   ],
   "source": [
    "df = pd.read_csv('data/' + REGION + '.csv', parse_dates={'dates': [2,3,4]})\n",
    "df = df.groupby(df.dates.dt.date).max()\n",
    "df = df.drop(['tempc', 'dates', 'hour'], axis=1)\n",
    "df.head()"
   ]
  },
  {
   "cell_type": "code",
   "execution_count": 5,
   "metadata": {},
   "outputs": [],
   "source": [
    "ONE_DAY = 0.03\n",
    "TWO_DAY = 0.05\n",
    "THREE_DAY = 0.08\n",
    "#calculate medium value of the load series\n",
    "med = df['load'].median()"
   ]
  },
  {
   "cell_type": "code",
   "execution_count": 6,
   "metadata": {},
   "outputs": [],
   "source": [
    "df['one'] = df['load'] + np.random.normal(0, ONE_DAY*med, df.shape[0])\n",
    "df['two'] = df['load'] + np.random.normal(0, TWO_DAY*med, df.shape[0])\n",
    "df['three'] = df['load'] + np.random.normal(0, THREE_DAY*med, df.shape[0])\n",
    "df['two'] = df['two'].shift(-1)\n",
    "df['three'] = df['three'].shift(-2)"
   ]
  },
  {
   "cell_type": "code",
   "execution_count": 7,
   "metadata": {},
   "outputs": [],
   "source": [
    "def pl(x):\n",
    "    return peak_likelihood(hist=x['hist'], tomorrow=x['one'], tomorrow_std=x['one']*ONE_DAY,\n",
    "                              two_day=x['two'], two_day_std=x['two']*TWO_DAY,\n",
    "                                three_day=x['three'], three_day_std=x['three']*THREE_DAY)\n",
    "def peak_likelihood(hist=None, tomorrow=None, tomorrow_std=None, \n",
    "                        two_day=None, two_day_std=None, three_day=None, three_day_std=None):\n",
    "    A = norm(tomorrow, tomorrow_std).cdf(hist)\n",
    "    B = norm(0, 1).cdf(-(tomorrow - two_day) / ((tomorrow_std**2 + two_day_std**2)**.5))\n",
    "    C = norm(0, 1).cdf(-(tomorrow - three_day) / ((tomorrow_std**2 + three_day_std**2)**.5))\n",
    "    return round((1 - A)*(1 - B)*(1 - C)*100, 2)\n",
    "\n",
    "\n",
    "def highest_so_far(x, df):\n",
    "    m = df[(df['my'] == x['my']) & (df['day'] < x['day'])]\n",
    "    return m['load'].max() if m.shape[0] != 0 else 0\n",
    "\n",
    "\n",
    "def q(r):\n",
    "    m = df[(df['month'] == r['month']) & (df['year'] < r['year'])].copy()\n",
    "    return -1 if m.shape[0] == 0 else round(float(m[r['one'] >= m['load']].shape[0]) / m['load'].shape[0] * 100, 2)"
   ]
  },
  {
   "cell_type": "code",
   "execution_count": 8,
   "metadata": {},
   "outputs": [],
   "source": [
    "df['dates'] = df.index.astype('datetime64[ns]')\n",
    "df['month'] = df.dates.dt.month\n",
    "df['year'] = df.dates.dt.year\n",
    "df['day'] = df.dates.dt.day\n",
    "df['my'] = df.dates.dt.month.astype(str) + '_' + df.dates.dt.year.astype(str)\n",
    "\n",
    "df['hist'] = df.apply(lambda x: highest_so_far(x, df), axis=1)\n",
    "\n",
    "peak_dates = df.groupby('my')['load'].idxmax().tolist()\n",
    "df['is_peak'] = df.index.map(lambda x: x in peak_dates)\n",
    "\n",
    "df['likelihood'] = df.apply(pl, axis=1)\n",
    "\n",
    "df['q'] = df.apply(q, axis=1)\n",
    "df = df[df['year'] > 2008]"
   ]
  },
  {
   "cell_type": "code",
   "execution_count": 9,
   "metadata": {},
   "outputs": [
    {
     "data": {
      "text/html": [
       "<div>\n",
       "<style scoped>\n",
       "    .dataframe tbody tr th:only-of-type {\n",
       "        vertical-align: middle;\n",
       "    }\n",
       "\n",
       "    .dataframe tbody tr th {\n",
       "        vertical-align: top;\n",
       "    }\n",
       "\n",
       "    .dataframe thead th {\n",
       "        text-align: right;\n",
       "    }\n",
       "</style>\n",
       "<table border=\"1\" class=\"dataframe\">\n",
       "  <thead>\n",
       "    <tr style=\"text-align: right;\">\n",
       "      <th></th>\n",
       "      <th>load</th>\n",
       "      <th>one</th>\n",
       "      <th>two</th>\n",
       "      <th>three</th>\n",
       "      <th>dates</th>\n",
       "      <th>month</th>\n",
       "      <th>year</th>\n",
       "      <th>day</th>\n",
       "      <th>my</th>\n",
       "      <th>hist</th>\n",
       "      <th>is_peak</th>\n",
       "      <th>likelihood</th>\n",
       "      <th>q</th>\n",
       "    </tr>\n",
       "    <tr>\n",
       "      <th>dates</th>\n",
       "      <th></th>\n",
       "      <th></th>\n",
       "      <th></th>\n",
       "      <th></th>\n",
       "      <th></th>\n",
       "      <th></th>\n",
       "      <th></th>\n",
       "      <th></th>\n",
       "      <th></th>\n",
       "      <th></th>\n",
       "      <th></th>\n",
       "      <th></th>\n",
       "      <th></th>\n",
       "    </tr>\n",
       "  </thead>\n",
       "  <tbody>\n",
       "    <tr>\n",
       "      <th>2009-01-01</th>\n",
       "      <td>8432.994347</td>\n",
       "      <td>8128.769101</td>\n",
       "      <td>9101.923745</td>\n",
       "      <td>9965.439821</td>\n",
       "      <td>2009-01-01</td>\n",
       "      <td>1</td>\n",
       "      <td>2009</td>\n",
       "      <td>1</td>\n",
       "      <td>1_2009</td>\n",
       "      <td>0.000000</td>\n",
       "      <td>False</td>\n",
       "      <td>0.04</td>\n",
       "      <td>2.30</td>\n",
       "    </tr>\n",
       "    <tr>\n",
       "      <th>2009-01-02</th>\n",
       "      <td>9473.169066</td>\n",
       "      <td>9228.371658</td>\n",
       "      <td>8713.204736</td>\n",
       "      <td>10034.075436</td>\n",
       "      <td>2009-01-02</td>\n",
       "      <td>1</td>\n",
       "      <td>2009</td>\n",
       "      <td>2</td>\n",
       "      <td>1_2009</td>\n",
       "      <td>8432.994347</td>\n",
       "      <td>False</td>\n",
       "      <td>14.38</td>\n",
       "      <td>36.87</td>\n",
       "    </tr>\n",
       "    <tr>\n",
       "      <th>2009-01-03</th>\n",
       "      <td>9448.893572</td>\n",
       "      <td>9568.356245</td>\n",
       "      <td>9201.470900</td>\n",
       "      <td>12606.895095</td>\n",
       "      <td>2009-01-03</td>\n",
       "      <td>1</td>\n",
       "      <td>2009</td>\n",
       "      <td>3</td>\n",
       "      <td>1_2009</td>\n",
       "      <td>9473.169066</td>\n",
       "      <td>False</td>\n",
       "      <td>0.09</td>\n",
       "      <td>50.69</td>\n",
       "    </tr>\n",
       "    <tr>\n",
       "      <th>2009-01-04</th>\n",
       "      <td>8648.723910</td>\n",
       "      <td>8449.517572</td>\n",
       "      <td>11448.825309</td>\n",
       "      <td>9688.427585</td>\n",
       "      <td>2009-01-04</td>\n",
       "      <td>1</td>\n",
       "      <td>2009</td>\n",
       "      <td>4</td>\n",
       "      <td>1_2009</td>\n",
       "      <td>9473.169066</td>\n",
       "      <td>False</td>\n",
       "      <td>0.00</td>\n",
       "      <td>4.61</td>\n",
       "    </tr>\n",
       "    <tr>\n",
       "      <th>2009-01-05</th>\n",
       "      <td>11051.920732</td>\n",
       "      <td>11221.120760</td>\n",
       "      <td>10351.647897</td>\n",
       "      <td>9258.831475</td>\n",
       "      <td>2009-01-05</td>\n",
       "      <td>1</td>\n",
       "      <td>2009</td>\n",
       "      <td>5</td>\n",
       "      <td>1_2009</td>\n",
       "      <td>9473.169066</td>\n",
       "      <td>False</td>\n",
       "      <td>91.32</td>\n",
       "      <td>94.93</td>\n",
       "    </tr>\n",
       "  </tbody>\n",
       "</table>\n",
       "</div>"
      ],
      "text/plain": [
       "                    load           one           two         three      dates  \\\n",
       "dates                                                                           \n",
       "2009-01-01   8432.994347   8128.769101   9101.923745   9965.439821 2009-01-01   \n",
       "2009-01-02   9473.169066   9228.371658   8713.204736  10034.075436 2009-01-02   \n",
       "2009-01-03   9448.893572   9568.356245   9201.470900  12606.895095 2009-01-03   \n",
       "2009-01-04   8648.723910   8449.517572  11448.825309   9688.427585 2009-01-04   \n",
       "2009-01-05  11051.920732  11221.120760  10351.647897   9258.831475 2009-01-05   \n",
       "\n",
       "            month  year  day      my         hist is_peak  likelihood      q  \n",
       "dates                                                                         \n",
       "2009-01-01      1  2009    1  1_2009     0.000000   False        0.04   2.30  \n",
       "2009-01-02      1  2009    2  1_2009  8432.994347   False       14.38  36.87  \n",
       "2009-01-03      1  2009    3  1_2009  9473.169066   False        0.09  50.69  \n",
       "2009-01-04      1  2009    4  1_2009  9473.169066   False        0.00   4.61  \n",
       "2009-01-05      1  2009    5  1_2009  9473.169066   False       91.32  94.93  "
      ]
     },
     "execution_count": 9,
     "metadata": {},
     "output_type": "execute_result"
    }
   ],
   "source": [
    "df.head()"
   ]
  },
  {
   "cell_type": "code",
   "execution_count": 10,
   "metadata": {},
   "outputs": [],
   "source": [
    "def F(a, b):\n",
    "    return a + b\n",
    "\n",
    "def test(df, l, q, use_and=True):\n",
    "    if use_and:\n",
    "        dispatched = df[(df['likelihood'] >= l) & (df['q'] >= q)].shape[0]\n",
    "    else:\n",
    "        dispatched = df[(df['likelihood'] >= l) | (df['q'] >= q)].shape[0]\n",
    "    \n",
    "    df_n = df[df['is_peak']]\n",
    "    if use_and:\n",
    "        peak = df_n[(df_n['likelihood'] >= l) & (df_n['q'] >= q)].shape[0]\n",
    "    else:\n",
    "        peak = df_n[(df_n['likelihood'] >= l) | (df_n['q'] >= q)].shape[0]\n",
    "    \n",
    "    return {\n",
    "                'percent_dispatched': round(dispatched / df.shape[0] * 100, 2),\n",
    "                'percent_peaks_missed': round(100 - (peak / df_n.shape[0]) * 100, 2),\n",
    "                'minimize_function': F(round(dispatched / df.shape[0] * 100, 2), round(100 - (peak / df_n.shape[0]) * 100, 2))\n",
    "            }"
   ]
  },
  {
   "cell_type": "code",
   "execution_count": 11,
   "metadata": {},
   "outputs": [
    {
     "name": "stdout",
     "output_type": "stream",
     "text": [
      "0 1 2 3 4 5 6 7 8 9 10 11 12 13 14 15 16 17 18 19 20 21 22 23 24 25 26 27 28 29 30 31 32 33 34 35 36 37 38 39 40 41 42 43 44 45 46 47 48 49 50 51 52 53 54 55 56 57 58 59 60 61 62 63 64 65 66 67 68 69 70 71 72 73 74 75 76 77 78 79 80 81 82 83 84 85 86 87 88 89 90 91 92 93 94 95 96 97 98 99 100 "
     ]
    }
   ],
   "source": [
    "l = [[None for i in range(101)] for j in range(101)]\n",
    "for i in range(101):\n",
    "    for j in range(101):\n",
    "        l[i][j] = test(df, i, j, use_and=True)\n",
    "    print(i, end=' ')"
   ]
  },
  {
   "cell_type": "code",
   "execution_count": 12,
   "metadata": {},
   "outputs": [
    {
     "name": "stdout",
     "output_type": "stream",
     "text": [
      "0 1 2 3 4 5 6 7 8 9 10 11 12 13 14 15 16 17 18 19 20 21 22 23 24 25 26 27 28 29 30 31 32 33 34 35 36 37 38 39 40 41 42 43 44 45 46 47 48 49 50 51 52 53 54 55 56 57 58 59 60 61 62 63 64 65 66 67 68 69 70 71 72 73 74 75 76 77 78 79 80 81 82 83 84 85 86 87 88 89 90 91 92 93 94 95 96 97 98 99 100 "
     ]
    }
   ],
   "source": [
    "m = [[None for i in range(101)] for j in range(101)]\n",
    "for i in range(101):\n",
    "    for j in range(101):\n",
    "        m[i][j] = test(df, i, j, use_and=False)\n",
    "    print(i, end=' ')"
   ]
  },
  {
   "cell_type": "code",
   "execution_count": 13,
   "metadata": {},
   "outputs": [],
   "source": [
    "and_true_f = [[None for i in range(101)] for j in range(101)]\n",
    "and_false_f = [[None for i in range(101)] for j in range(101)]\n",
    "\n",
    "and_true_d = [[None for i in range(101)] for j in range(101)]\n",
    "and_false_d = [[None for i in range(101)] for j in range(101)]\n",
    "\n",
    "and_true_p = [[None for i in range(101)] for j in range(101)]\n",
    "and_false_p = [[None for i in range(101)] for j in range(101)]\n",
    "\n",
    "for i in range(101):\n",
    "    for j in range(101):\n",
    "        and_true_f[i][j] = l[i][j]['minimize_function']\n",
    "        and_false_f[i][j] = m[i][j]['minimize_function']\n",
    "        \n",
    "        and_true_p[i][j] = l[i][j]['percent_peaks_missed']\n",
    "        and_false_p[i][j] = m[i][j]['percent_peaks_missed']\n",
    "        \n",
    "        and_true_d[i][j] = l[i][j]['percent_dispatched']\n",
    "        and_false_d[i][j] = m[i][j]['percent_dispatched']"
   ]
  },
  {
   "cell_type": "code",
   "execution_count": 14,
   "metadata": {},
   "outputs": [],
   "source": [
    "%matplotlib inline\n",
    "import matplotlib.pyplot as plt"
   ]
  },
  {
   "cell_type": "code",
   "execution_count": 15,
   "metadata": {},
   "outputs": [
    {
     "data": {
      "image/png": "[encoded data removed]",
      "text/plain": [
       "<Figure size 1512x360 with 4 Axes>"
      ]
     },
     "metadata": {
      "needs_background": "light"
     },
     "output_type": "display_data"
    }
   ],
   "source": [
    "fig, axes = plt.subplots(nrows=1, ncols=3, figsize=(21, 5))\n",
    "n = np.array(and_true_p)\n",
    "img = axes[0].imshow(n, cmap=(plt.cm.seismic), interpolation='nearest', vmin=0, vmax=100)\n",
    "axes[0].set_title('% peaks missed')\n",
    "\n",
    "\n",
    "n = np.array(and_true_d)\n",
    "axes[1].imshow(n, cmap=plt.cm.seismic, interpolation='nearest', vmin=0, vmax=100)\n",
    "axes[1].set_title('% dispatches made')\n",
    "\n",
    "n = np.array(and_true_f)\n",
    "img = axes[2].imshow(n, cmap=plt.cm.seismic, interpolation='nearest', vmin=0, vmax=100)\n",
    "axes[2].set_title('function to minimize')\n",
    "\n",
    "for i in range(3):\n",
    "    axes[i].set_xlabel('peak percentile threshold')\n",
    "    axes[i].set_ylabel('local peak likelihood threshold')\n",
    "\n",
    "fig.colorbar(img)\n",
    "plt.savefig(REGION + '.png', dpi=150)"
   ]
  },
  {
   "cell_type": "code",
   "execution_count": 16,
   "metadata": {},
   "outputs": [
    {
     "name": "stdout",
     "output_type": "stream",
     "text": [
      "(2, 91)\n"
     ]
    },
    {
     "data": {
      "text/plain": [
       "{'percent_dispatched': 20.14,\n",
       " 'percent_peaks_missed': 5.83,\n",
       " 'minimize_function': 25.97}"
      ]
     },
     "execution_count": 16,
     "metadata": {},
     "output_type": "execute_result"
    }
   ],
   "source": [
    "n = np.array(and_true_f)\n",
    "min_args = np.unravel_index(n.argmin(), n.shape)\n",
    "print(min_args)\n",
    "test(df, *min_args, use_and=True)"
   ]
  },
  {
   "cell_type": "code",
   "execution_count": 17,
   "metadata": {},
   "outputs": [
    {
     "name": "stdout",
     "output_type": "stream",
     "text": [
      "(45, 98)\n"
     ]
    },
    {
     "data": {
      "text/plain": [
       "{'percent_dispatched': 17.95,\n",
       " 'percent_peaks_missed': 10.83,\n",
       " 'minimize_function': 28.78}"
      ]
     },
     "execution_count": 17,
     "metadata": {},
     "output_type": "execute_result"
    }
   ],
   "source": [
    "n = np.array(and_false_f)\n",
    "min_args = np.unravel_index(n.argmin(), n.shape)\n",
    "print(min_args)\n",
    "test(df, *min_args, use_and=False)"
   ]
  }
 ],
 "metadata": {
  "kernelspec": {
   "display_name": "Python 3 (ipykernel)",
   "language": "python",
   "name": "python3"
  },
  "language_info": {
   "codemirror_mode": {
    "name": "ipython",
    "version": 3
   },
   "file_extension": ".py",
   "mimetype": "text/x-python",
   "name": "python",
   "nbconvert_exporter": "python",
   "pygments_lexer": "ipython3",
   "version": "3.9.10"
  }
 },
 "nbformat": 4,
 "nbformat_minor": 2
}
