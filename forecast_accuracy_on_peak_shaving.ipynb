{
 "cells": [
  {
   "cell_type": "code",
   "execution_count": 2,
   "metadata": {},
   "outputs": [],
   "source": [
    "import pandas as pd\n",
    "import pulp\n",
    "import numpy as np\n",
    "import matplotlib.pyplot as plt\n",
    "%matplotlib inline"
   ]
  },
  {
   "cell_type": "code",
   "execution_count": 3,
   "metadata": {},
   "outputs": [],
   "source": [
    "# COAST, NCENT, NORTH, SCENT, SOUTH, WEST, EAST, FWEST\n",
    "REGION = 'FWEST'\n",
    "RATING = 500\n",
    "CAPACITY = 700"
   ]
  },
  {
   "cell_type": "code",
   "execution_count": 4,
   "metadata": {},
   "outputs": [],
   "source": [
    "def pulp24hrBattery(pred_load, actual_load, RATING, CAPACITY):\n",
    "    # A pulp LP optimizer of 24 hr battery\n",
    "    model = pulp.LpProblem(\"Daily demand charge minimization problem\", pulp.LpMinimize)\n",
    "    power = pulp.LpVariable.dicts(\"ChargingPower\", range(24))\n",
    "\n",
    "    for i in range(24):\n",
    "        power[i].lowBound = 0\n",
    "        power[i].upBound = RATING\n",
    "    pDemand = pulp.LpVariable(\"Peak Demand\", lowBound=0)\n",
    "\n",
    "    model += pDemand\n",
    "\n",
    "    for i in range(24):\n",
    "        model += pDemand >= pred_load[i] - power[i]    \n",
    "    model += pulp.lpSum(power) <= CAPACITY\n",
    "    \n",
    "    model.solve()\n",
    "    return [actual_load[i] - power[i].varValue for i in range(24)]\n",
    "\n",
    "def optimal_daily(day_load, RATING, CAPACITY):\n",
    "    ps = max(day_load)\n",
    "    new_load = list(day_load)\n",
    "    broken = True\n",
    "    while broken:\n",
    "        ps -= 1\n",
    "        new_load = [ps if l > ps else l for l in new_load]\n",
    "        diff = [p - l for p, l in zip(day_load, new_load)]\n",
    "        broken = sum(diff) <= CAPACITY and all([d <= RATING for d in diff])    \n",
    "    return new_load"
   ]
  },
  {
   "cell_type": "code",
   "execution_count": 1,
   "metadata": {},
   "outputs": [
    {
     "ename": "NameError",
     "evalue": "name 'pd' is not defined",
     "output_type": "error",
     "traceback": [
      "\u001b[0;31m---------------------------------------------------------------------------\u001b[0m",
      "\u001b[0;31mNameError\u001b[0m                                 Traceback (most recent call last)",
      "\u001b[1;32m/Users/tomxu/Documents/Battery-Arbitrage-Modeling-Tool/forecast_accuracy_on_peak_shaving.ipynb Cell 4'\u001b[0m in \u001b[0;36m<module>\u001b[0;34m\u001b[0m\n\u001b[1;32m      <a href='vscode-notebook-cell:/Users/tomxu/Documents/Battery-Arbitrage-Modeling-Tool/forecast_accuracy_on_peak_shaving.ipynb#ch0000003?line=4'>5</a>\u001b[0m \u001b[39mfor\u001b[39;00m region \u001b[39min\u001b[39;00m REGIONS:\n\u001b[1;32m      <a href='vscode-notebook-cell:/Users/tomxu/Documents/Battery-Arbitrage-Modeling-Tool/forecast_accuracy_on_peak_shaving.ipynb#ch0000003?line=5'>6</a>\u001b[0m     d[region] \u001b[39m=\u001b[39m {}\n\u001b[0;32m----> <a href='vscode-notebook-cell:/Users/tomxu/Documents/Battery-Arbitrage-Modeling-Tool/forecast_accuracy_on_peak_shaving.ipynb#ch0000003?line=6'>7</a>\u001b[0m     df \u001b[39m=\u001b[39m pd\u001b[39m.\u001b[39mread_csv(\u001b[39m'\u001b[39m\u001b[39m./data/\u001b[39m\u001b[39m'\u001b[39m \u001b[39m+\u001b[39m region \u001b[39m+\u001b[39m \u001b[39m'\u001b[39m\u001b[39m.csv\u001b[39m\u001b[39m'\u001b[39m, parse_dates\u001b[39m=\u001b[39m{\u001b[39m'\u001b[39m\u001b[39mdates\u001b[39m\u001b[39m'\u001b[39m: [\u001b[39m2\u001b[39m,\u001b[39m3\u001b[39m,\u001b[39m4\u001b[39m]})\n\u001b[1;32m      <a href='vscode-notebook-cell:/Users/tomxu/Documents/Battery-Arbitrage-Modeling-Tool/forecast_accuracy_on_peak_shaving.ipynb#ch0000003?line=7'>8</a>\u001b[0m     df \u001b[39m=\u001b[39m df\u001b[39m.\u001b[39mdrop(\u001b[39m'\u001b[39m\u001b[39mtempc\u001b[39m\u001b[39m'\u001b[39m, axis\u001b[39m=\u001b[39m\u001b[39m1\u001b[39m)\n\u001b[1;32m     <a href='vscode-notebook-cell:/Users/tomxu/Documents/Battery-Arbitrage-Modeling-Tool/forecast_accuracy_on_peak_shaving.ipynb#ch0000003?line=9'>10</a>\u001b[0m     m \u001b[39m=\u001b[39m df[\u001b[39m'\u001b[39m\u001b[39mload\u001b[39m\u001b[39m'\u001b[39m]\u001b[39m.\u001b[39mtolist()\n",
      "\u001b[0;31mNameError\u001b[0m: name 'pd' is not defined"
     ]
    }
   ],
   "source": [
    "d = {}\n",
    "\n",
    "REGIONS = ['COAST', 'NCENT', 'NORTH', 'SCENT', 'SOUTH', 'WEST', 'EAST', 'FWEST']\n",
    "\n",
    "for region in REGIONS:\n",
    "    d[region] = {}\n",
    "    df = pd.read_csv('./data/' + region + '.csv', parse_dates={'dates': [2,3,4]})\n",
    "    df = df.drop('tempc', axis=1)\n",
    "    \n",
    "    m = df['load'].tolist()\n",
    "    load_24 = [m[i: i+24] for i in range(0, len(m), 24)]\n",
    "    d[region]['max_load'] = df.groupby(df.dates.dt.date)['load'].max().sum()\n",
    "    for error in range(0, 6):\n",
    "        error = float(error) / 100\n",
    "        \n",
    "        df['prediction'] = df['load'].apply(lambda x: x + np.random.normal(0, error*x))\n",
    "        m = df['prediction'].tolist()\n",
    "        pred_24 = [m[i: i+24] for i in range(0, len(m), 24)]\n",
    "        \n",
    "        n_load = []\n",
    "        for pred_load, actual_load in zip(pred_24, load_24):\n",
    "            n_load.append(pulp24hrBattery(pred_load, actual_load, RATING, CAPACITY))\n",
    "        \n",
    "        NEW_MAX_LOAD = sum([max(d) for d in n_load])\n",
    "        \n",
    "        d[region][str(error)] = NEW_MAX_LOAD"
   ]
  }
 ],
 "metadata": {
  "interpreter": {
   "hash": "d6e62d77f00a58f37fbde7b0cfba543e33523e02f5b57b0bd5e7a8e2bc889175"
  },
  "kernelspec": {
   "display_name": "Python 3.9.9 ('.venv': pipenv)",
   "language": "python",
   "name": "python3"
  },
  "language_info": {
   "codemirror_mode": {
    "name": "ipython",
    "version": 3
   },
   "file_extension": ".py",
   "mimetype": "text/x-python",
   "name": "python",
   "nbconvert_exporter": "python",
   "pygments_lexer": "ipython3",
   "version": "3.9.9"
  },
  "orig_nbformat": 4
 },
 "nbformat": 4,
 "nbformat_minor": 2
}
