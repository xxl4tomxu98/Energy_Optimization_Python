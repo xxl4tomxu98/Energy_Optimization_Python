{
 "cells": [
  {
   "cell_type": "code",
   "execution_count": 11,
   "metadata": {},
   "outputs": [],
   "source": [
    "from glob import glob\n",
    "from pathlib import Path\n",
    "import logging, os, math\n",
    "import pandas as pd\n",
    "import numpy as np\n",
    "from pandas import read_csv\n",
    "from datetime import datetime\n",
    "from matplotlib import pyplot as plt\n",
    "from math import sqrt\n",
    "from numpy import concatenate\n",
    "from pandas import DataFrame\n",
    "from pandas import concat\n",
    "from sklearn.preprocessing import MinMaxScaler\n",
    "from sklearn.preprocessing import LabelEncoder\n",
    "from sklearn import preprocessing\n",
    "from sklearn import model_selection\n",
    "from sklearn.metrics import mean_squared_error\n",
    "from math import sqrt\n",
    "from keras.models import Sequential\n",
    "from keras.layers import Dense\n",
    "from keras.layers import LSTM\n",
    "from keras.models import save_model\n",
    "from keras.models import load_model\n",
    "from read_data import read_all_nyc"
   ]
  },
  {
   "cell_type": "code",
   "execution_count": 12,
   "metadata": {},
   "outputs": [
    {
     "data": {
      "text/html": [
       "<div>\n",
       "<style scoped>\n",
       "    .dataframe tbody tr th:only-of-type {\n",
       "        vertical-align: middle;\n",
       "    }\n",
       "\n",
       "    .dataframe tbody tr th {\n",
       "        vertical-align: top;\n",
       "    }\n",
       "\n",
       "    .dataframe thead th {\n",
       "        text-align: right;\n",
       "    }\n",
       "</style>\n",
       "<table border=\"1\" class=\"dataframe\">\n",
       "  <thead>\n",
       "    <tr style=\"text-align: right;\">\n",
       "      <th></th>\n",
       "      <th>time_stamp</th>\n",
       "      <th>name</th>\n",
       "      <th>lbmp</th>\n",
       "      <th>hour</th>\n",
       "    </tr>\n",
       "  </thead>\n",
       "  <tbody>\n",
       "    <tr>\n",
       "      <th>0</th>\n",
       "      <td>2017-01-01 00:00:00</td>\n",
       "      <td>N.Y.C.</td>\n",
       "      <td>33.60</td>\n",
       "      <td>0</td>\n",
       "    </tr>\n",
       "    <tr>\n",
       "      <th>1</th>\n",
       "      <td>2017-01-01 01:00:00</td>\n",
       "      <td>N.Y.C.</td>\n",
       "      <td>32.05</td>\n",
       "      <td>1</td>\n",
       "    </tr>\n",
       "    <tr>\n",
       "      <th>2</th>\n",
       "      <td>2017-01-01 02:00:00</td>\n",
       "      <td>N.Y.C.</td>\n",
       "      <td>29.23</td>\n",
       "      <td>2</td>\n",
       "    </tr>\n",
       "    <tr>\n",
       "      <th>3</th>\n",
       "      <td>2017-01-01 03:00:00</td>\n",
       "      <td>N.Y.C.</td>\n",
       "      <td>25.02</td>\n",
       "      <td>3</td>\n",
       "    </tr>\n",
       "    <tr>\n",
       "      <th>4</th>\n",
       "      <td>2017-01-01 04:00:00</td>\n",
       "      <td>N.Y.C.</td>\n",
       "      <td>26.94</td>\n",
       "      <td>4</td>\n",
       "    </tr>\n",
       "  </tbody>\n",
       "</table>\n",
       "</div>"
      ],
      "text/plain": [
       "           time_stamp    name   lbmp  hour\n",
       "0 2017-01-01 00:00:00  N.Y.C.  33.60     0\n",
       "1 2017-01-01 01:00:00  N.Y.C.  32.05     1\n",
       "2 2017-01-01 02:00:00  N.Y.C.  29.23     2\n",
       "3 2017-01-01 03:00:00  N.Y.C.  25.02     3\n",
       "4 2017-01-01 04:00:00  N.Y.C.  26.94     4"
      ]
     },
     "execution_count": 12,
     "metadata": {},
     "output_type": "execute_result"
    }
   ],
   "source": [
    "#INPUTS: names of csv files, name of zone being examined\n",
    "#read in all csv files at once from directory\n",
    "#feed in your filenames here for HOURLY LBMP\n",
    "path = Path.cwd() / \"2017_NYISO_LBMPs\"\n",
    "\n",
    "#filenames = glob(os.path.join(path, \"201701*.csv\"))\n",
    "#get list of dataframes for each day\n",
    "# dataframes= [pd.read_csv(f, dtype={\"Time Stamp\": \"object\", \"Name\": \"object\",\n",
    "#                                    \"PTID\": int, \"LBMP ($/MWHr)\": float,\n",
    "#                                    \"Marginal Cost Losses ($/MWHr)\": float,\n",
    "#                                    \"Marginal Cost Congestion ($/MWHr)\": float})\n",
    "#              for f in filenames]\n",
    "# Or we can use read_data function to do the injestion\n",
    "df = read_all_nyc(data_path=path)\n",
    "df.head(5)"
   ]
  },
  {
   "cell_type": "code",
   "execution_count": 13,
   "metadata": {},
   "outputs": [
    {
     "data": {
      "text/plain": [
       "8760"
      ]
     },
     "execution_count": 13,
     "metadata": {},
     "output_type": "execute_result"
    }
   ],
   "source": [
    "# total rows in the data should be equal to num of hours in a year 2017\n",
    "lastIndex = len(df)\n",
    "lastIndex"
   ]
  }
 ],
 "metadata": {
  "interpreter": {
   "hash": "32b8582a6a317188b1b21a1addc55c3e93ba5302b85506ac8f3c8dfe71022194"
  },
  "kernelspec": {
   "display_name": "Python 3.9.6 64-bit ('tf25': conda)",
   "language": "python",
   "name": "python3"
  },
  "language_info": {
   "codemirror_mode": {
    "name": "ipython",
    "version": 3
   },
   "file_extension": ".py",
   "mimetype": "text/x-python",
   "name": "python",
   "nbconvert_exporter": "python",
   "pygments_lexer": "ipython3",
   "version": "3.9.6"
  },
  "orig_nbformat": 4
 },
 "nbformat": 4,
 "nbformat_minor": 2
}
